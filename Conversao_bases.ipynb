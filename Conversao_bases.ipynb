{
  "nbformat": 4,
  "nbformat_minor": 0,
  "metadata": {
    "colab": {
      "provenance": []
    },
    "kernelspec": {
      "name": "python3",
      "display_name": "Python 3"
    },
    "language_info": {
      "name": "python"
    }
  },
  "cells": [
    {
      "cell_type": "markdown",
      "source": [
        "# Introdução ao computador\n",
        "## Aluno: Thiago Rodrigues\n",
        "\n",
        "## Conversão de sistemas de numeração\n",
        "Abaixo estão alguns códigos que transformam um número de uma base para outra. É interessante notar o processo pelo qual os números passam. Esses códigos podem ser utilizados para conferir resultados de diversas questões.Basta executar o código e digitar o número solicitado."
      ],
      "metadata": {
        "id": "1JEGzi3svwjt"
      }
    },
    {
      "cell_type": "markdown",
      "source": [
        "## Binário para decimal\n",
        "Para transformar de binário para decimal basta pegar a posição que o 1 se encontra e elevar 2 ao número dessa posição.Esse processo é chamado de conversão polinomial ou posicional.Por exemplo: 110= 2^2 + 2^1. \n",
        "OBS:A posição inicia-se em zero.  "
      ],
      "metadata": {
        "id": "yMdv6p7mAF8W"
      }
    },
    {
      "cell_type": "code",
      "execution_count": 31,
      "metadata": {
        "colab": {
          "base_uri": "https://localhost:8080/"
        },
        "id": "IbxTr2GUtQiy",
        "outputId": "dcb7851e-22a7-4a5c-ccab-aa5abd3812a8"
      },
      "outputs": [
        {
          "output_type": "stream",
          "name": "stdout",
          "text": [
            "Digite um número em Binário: 01110101\n",
            "O número em decimal é 117\n"
          ]
        }
      ],
      "source": [
        "n = input(\"Digite um número em Binário: \")\n",
        "decimal = 0\n",
        "tamanho_num = len(n)\n",
        "\n",
        "for i in range(tamanho_num):\n",
        "  if n[i]=='1':#Se tiver um '1':\n",
        "    decimal = decimal + 2**(tamanho_num-1-int(i))#Eleva 2 a posição  que o 1 está\n",
        "    \n",
        "print(f'O número em decimal é {decimal}')  "
      ]
    },
    {
      "cell_type": "markdown",
      "source": [
        "## Decimal para binário\n",
        "Para transformar de decimal para binário,dividimos o número em decimal, até ser impossível dividir por dois novamente(de forma inteira).O número em binário será o resultado da última divisão concatenado com os restos das divisões em ordem decrecescente.Ex:13 => 13/2 resto 1, 6/2 resto 0, 3/2 resto 1 e resultado da divisão é 1.Conclui-se que 13 é 1101 em binário.  "
      ],
      "metadata": {
        "id": "TT4lK7D3qCbh"
      }
    },
    {
      "cell_type": "code",
      "source": [
        "resultado = ''\n",
        "lista = []\n",
        "num = int(input(\"Digite um número em Decimal: \"))\n",
        "\n",
        "#Enquanto o resultado da divisão por dois for inteira:\n",
        "while num/2>=1:\n",
        "  lista.append(num%2)#Guardando o resto da divisão\n",
        "  num = int(num/2)\n",
        "\n",
        "lista.append(int(num))#Adicionando o último resultado da divisão\n",
        "\n",
        "#Colocando em ordem decrescente do último resultado até o primeiro resto da divisão\n",
        "for i in range(1,len(lista)+1):\n",
        "    resultado += str(lista[-i])\n",
        "\n",
        "print(f\"Esse número em decimal corresponde ao número {resultado} em binário.\")"
      ],
      "metadata": {
        "colab": {
          "base_uri": "https://localhost:8080/"
        },
        "id": "n6qL7RkrqCFc",
        "outputId": "3e2024f5-095d-4a09-d10a-eae8ebad357e"
      },
      "execution_count": 32,
      "outputs": [
        {
          "output_type": "stream",
          "name": "stdout",
          "text": [
            "Digite um número em Decimal: 117\n",
            "Esse número em decimal corresponde ao número 1110101 em binário.\n"
          ]
        }
      ]
    },
    {
      "cell_type": "markdown",
      "source": [
        "É importante notar que esse processo não funciona apenas para transformar de decimal para binário, também funciona para transformar de decimal para as demais bases,processo conhecido como conversão por divisão.Exemplo de transformação para octal:"
      ],
      "metadata": {
        "id": "1LRNkLx5eXCw"
      }
    },
    {
      "cell_type": "code",
      "source": [
        "resultado = ''\n",
        "lista = []\n",
        "num = int(input(\"Digite um número em Decimal: \"))\n",
        "\n",
        "#Enquanto o resultado da divisão por 8 for inteira:\n",
        "while num/8>=1:\n",
        "  lista.append(num%8)#Guardando o resto da divisão\n",
        "  num = int(num/8)\n",
        "lista.append(int(num))#Adicionando o último resultado da divisão\n",
        "\n",
        "#Colocando em ordem decrescente do último resultado até o primeiro resto da divisão\n",
        "for i in range(1,len(lista)+1):\n",
        "    resultado += str(lista[-i])\n",
        "\n",
        "print(f\"Esse número corresponde a {resultado} em octal.\")"
      ],
      "metadata": {
        "colab": {
          "base_uri": "https://localhost:8080/"
        },
        "id": "14bIvH4wYRsF",
        "outputId": "70018768-b4ab-40f2-dd06-b1e965d27a97"
      },
      "execution_count": null,
      "outputs": [
        {
          "output_type": "stream",
          "name": "stdout",
          "text": [
            "Digite um número em Decimal: 104\n",
            "Esse número em octal corresponde a 150.\n"
          ]
        }
      ]
    },
    {
      "cell_type": "markdown",
      "source": [
        "## Binário para octal\n",
        "Para realizar essa transformação podemos utilizar a técnica de agrupamento de bits que consiste em: Se o número de elementos em binário for divisível por três,podemos calcular apenas separando em grupo de três elementos e  ir calculando cada um separadamente e concatenando esses números na ordem em que estavam dispostos os grupos.Caso não tenha um número de elementos divisível por três, podemos acrescentar zeros na frente do número para completar os grupos.Exemplo: 001001 = (001) = 1 , (001) = 1 : Solução = 11.\n",
        "Nessa perspectiva, desenvolve-se o seguinte código:"
      ],
      "metadata": {
        "id": "NFxlKz1BtWaP"
      }
    },
    {
      "cell_type": "code",
      "source": [
        "n = ''\n",
        "resultado = ''\n",
        "contador = 0\n",
        "soma = 0\n",
        "num =  input(\"Digite umn número em binário: \")\n",
        "\n",
        "#Caso não tenha os grupos de 3 completo,acrescentamos os zeros na frente do número \n",
        "if len(num)%3!=0:\n",
        "  while((len(num)+contador)%3!=0):\n",
        "    contador += 1\n",
        "    n += '0'\n",
        "  n += num\n",
        "\n",
        "#Caso tenha, não precisa acrescentar os zeros\n",
        "else:\n",
        "  n = num\n",
        "\n",
        "#Concatenando os números resultantes de cada grupo de três temos o resultado\n",
        "for i in range(len(n)+1):\n",
        "  soma = 0\n",
        "  if -i%3==0 and i!=0:#Se tivermos um grupo de três bits:\n",
        "  #Calculamos a soma desse número em octal e depois adicionamos ao resultado\n",
        "    soma += int(n[-i+2])\n",
        "    soma += int(n[-i+1])*2\n",
        "    soma += int(n[-i])*4\n",
        "    resultado = str(soma)+resultado\n",
        "  else:\n",
        "    continue\n",
        "  \n",
        "print(f\"O número {n} em binário corresponde a {resultado} em octal\")\n"
      ],
      "metadata": {
        "id": "-8Qe6UFItevo",
        "colab": {
          "base_uri": "https://localhost:8080/"
        },
        "outputId": "659a6119-b1a8-4591-8bce-2e131360449d"
      },
      "execution_count": null,
      "outputs": [
        {
          "output_type": "stream",
          "name": "stdout",
          "text": [
            "Digite umn número em binário: 010110\n",
            "O número 010110 em binário corresponde a 26 em octal\n"
          ]
        }
      ]
    },
    {
      "cell_type": "markdown",
      "source": [
        "## Binário para  hexadecimal\n",
        "De forma análoga, para transformar de maneira prática podemos apenas dividir o número (em binário) em grupos de 4, calcular esses números em hexadecimal e concatenar na ordem correta para obter o resultado.Exemplo 00010010 = (0001)=1,(0010) = 2 : Solução = 12.Baseado nessas ideias criamos o código:"
      ],
      "metadata": {
        "id": "03wz0ycTLehg"
      }
    },
    {
      "cell_type": "code",
      "source": [
        "n = ''\n",
        "contador = 0\n",
        "resultado = ''\n",
        "soma = 0\n",
        "lista = [0,'A','B','C','D','E','F']\n",
        "num =  input(\"Digite umn número em binário: \")\n",
        "\n",
        "#Caso não tenha os grupos de 4 completo,acrescentamos os zeros na frente do número \n",
        "if len(num)%4!=0:\n",
        "  while((len(num)+contador)%4!=0):\n",
        "    contador += 1\n",
        "    n += '0'\n",
        "  n += num\n",
        "\n",
        "#Caso tenha, não precisa acrescentar os zeros\n",
        "else:\n",
        "  n = num\n",
        "\n",
        "#Concatenando os números resultantes de cada grupo de quatro temos o resultado\n",
        "for i in range(len(n)+1):\n",
        "  soma = 0\n",
        "  if -i%4==0 and i!=0:#Se tivermos um grupo de quatro bits:\n",
        "  #Calculamos a soma desse número em hexadecimal e depois adicionamos ao resultado\n",
        "    soma += int(n[-i+3])\n",
        "    soma += int(n[-i+2])*2\n",
        "    soma += int(n[-i+1])*4\n",
        "    soma += int(n[-i])*8\n",
        "    if soma > 9:\n",
        "      soma = soma - 9\n",
        "      resultado = lista[soma]+resultado \n",
        "    else:\n",
        "      resultado = str(soma)+resultado\n",
        "  else:\n",
        "    continue\n",
        "  \n",
        "print(f\"O número {n} em binário corresponde a {resultado} em hexadecimal\")"
      ],
      "metadata": {
        "id": "kzYXAQGAM0Gb",
        "colab": {
          "base_uri": "https://localhost:8080/"
        },
        "outputId": "8caac957-976c-418c-a51f-0e69db2c60fc"
      },
      "execution_count": null,
      "outputs": [
        {
          "output_type": "stream",
          "name": "stdout",
          "text": [
            "Digite umn número em binário: 11011110\n",
            "O número 11011110 em binário corresponde a DE em hexadecimal\n"
          ]
        }
      ]
    },
    {
      "cell_type": "markdown",
      "source": [
        "## Octal e Hexadecimal para binário\n",
        "Para transformar de Octal ou hexadecimal para binário, basta fazer o processo inverso dos apresentados acima.Criei um dicíonário no código,porque é comum acabar decorando esses valores, mas caso não lembre pode fazer os processos descritos anteriormente,tranformando cada elemento do número em decimal para descobrir os valores.Exemplo: FA(base 16) em binário => F é 16 elemento,ou seja, 15 em decimal, e A é 11 elemento que é 10 em decimal, transformado é só transformar em binário, resultando em 11111010.Abaixo está um código que transforma de octal para binário."
      ],
      "metadata": {
        "id": "O2WWjizuX9il"
      }
    },
    {
      "cell_type": "code",
      "source": [
        "dicionario = {'0': '000', '1': '001', '2': '010', '3': '011', '4': '100', '5': '101', '6': '110', '7': '111'}\n",
        "resultado = ''\n",
        "num = input(\"Digite o número em octal: \")\n",
        "\n",
        "#Cada símbolo do número em octal é convertido em binário: \n",
        "for i in num:\n",
        "  resultado += dicionario[i]\n",
        "print(resultado)"
      ],
      "metadata": {
        "id": "940IeLgyidWL",
        "colab": {
          "base_uri": "https://localhost:8080/"
        },
        "outputId": "1c96c4a9-dbd5-4ed6-b6cd-14860f618599"
      },
      "execution_count": null,
      "outputs": [
        {
          "output_type": "stream",
          "name": "stdout",
          "text": [
            "Digite o número em octal: 13\n",
            "001011\n"
          ]
        }
      ]
    },
    {
      "cell_type": "markdown",
      "source": [
        "## Octal e Hexadecimal para decimal\n"
      ],
      "metadata": {
        "id": "TBQJ0xZmoHGl"
      }
    },
    {
      "cell_type": "markdown",
      "source": [
        "Uma maneira prática de transformar de  octal ou hexadecimal para decimal é transformar primeiro para binário e depois para decimal."
      ],
      "metadata": {
        "id": "faXtLxePoiki"
      }
    },
    {
      "cell_type": "code",
      "source": [
        "dicionario = {'0': '000', '1': '001', '2': '010', '3': '011', '4': '100', '5': '101', '6': '110', '7': '111'}\n",
        "binario = ''\n",
        "resultado = ''\n",
        "#Transformando de octal para binário:\n",
        "num = input(\"Digite o número em octal: \")\n",
        "for i in num:\n",
        "  binario += dicionario[i]\n",
        "#Transformando de binário para decimal:\n",
        "decimal = 0\n",
        "tamanho_num = len(binario)\n",
        "\n",
        "for i in range(tamanho_num):\n",
        "  if n[i]=='1':#Se tiver um '1':\n",
        "    decimal = decimal + 2**(tamanho_num-1-int(i))#Eleva 2 a posição  que o 1 está\n",
        "    \n",
        "print(f'O número em decimal é {decimal}')  \n"
      ],
      "metadata": {
        "id": "jlM7oFBWoVD9"
      },
      "execution_count": null,
      "outputs": []
    },
    {
      "cell_type": "markdown",
      "source": [
        "## Octal para Hexadecimal(vice-versa)\n",
        "Para converter basta transformar o número para binário e fazer o agrupamento de acordo com a base que deseja saber.Ex:34(hexadecimal) para octal => 00110100 = 000 | 110 | 100 = 64 em octal."
      ],
      "metadata": {
        "id": "E6cjjl1txIFY"
      }
    },
    {
      "cell_type": "code",
      "source": [
        "dicionario = {'0': '000', '1': '001', '2': '010', '3': '011', '4': '100', '5': '101', '6': '110', '7': '111'}\n",
        "lista = [0,'A','B','C','D','E','F']\n",
        "contador = 0\n",
        "n = ''\n",
        "binario = ''\n",
        "resultado = ''\n",
        "num = input(\"Digite o número em octal: \")\n",
        "\n",
        "#Cada símbolo do número em octal é convertido em binário: \n",
        "for i in num:\n",
        "  binario += dicionario[i]\n",
        "\n",
        "#Caso não tenha os grupos de 4 completo,acrescentamos os zeros na frente do número \n",
        "if len(binario)%4!=0:\n",
        "  while((len(binario)+contador)%4!=0):\n",
        "    contador += 1\n",
        "    n += '0'\n",
        "  n += binario\n",
        "\n",
        "#Caso tenha, não precisa acrescentar os zeros\n",
        "else:\n",
        "  n = binario\n",
        "\n",
        "#Concatenando os números resultantes de cada grupo de quatro temos o resultado\n",
        "for i in range(len(n)+1):\n",
        "  soma = 0\n",
        "  if -i%4==0 and i!=0:#Se tivermos um grupo de quatro bits:\n",
        "  #Calculamos a soma desse número em hexadecimal e depois adicionamos ao resultado\n",
        "    soma += int(n[-i+3])\n",
        "    soma += int(n[-i+2])*2\n",
        "    soma += int(n[-i+1])*4\n",
        "    soma += int(n[-i])*8\n",
        "    if soma > 9:\n",
        "      soma = soma - 9\n",
        "      resultado = lista[soma]+resultado \n",
        "    else:\n",
        "      resultado = str(soma)+resultado\n",
        "  else:\n",
        "    continue\n",
        "  \n",
        "print(f\"O número {num} em octal corresponde a {resultado} em hexadecimal\")\n"
      ],
      "metadata": {
        "colab": {
          "base_uri": "https://localhost:8080/"
        },
        "id": "1FqEwNT3yREj",
        "outputId": "bab8269e-401f-476b-ba08-ddc8a37660b0"
      },
      "execution_count": 34,
      "outputs": [
        {
          "output_type": "stream",
          "name": "stdout",
          "text": [
            "Digite o número em octal: 13\n",
            "O número 13 em octal corresponde a 0B em hexadecimal\n"
          ]
        }
      ]
    }
  ]
}