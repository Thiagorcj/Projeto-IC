{
  "nbformat": 4,
  "nbformat_minor": 0,
  "metadata": {
    "colab": {
      "provenance": []
    },
    "kernelspec": {
      "name": "python3",
      "display_name": "Python 3"
    },
    "language_info": {
      "name": "python"
    }
  },
  "cells": [
    {
      "cell_type": "markdown",
      "source": [
        "# Introdução ao computador\n",
        "## Diferença de representações em bases diferentes\n",
        "Nesse primeiro momento, desenvolvemos um código para perceber a diferença que a base faz para o entendimento do valor.Ex: 101 em binário é diferente de 101 em decimal.Em binário 101 é o 6° elemento, enquanto que 101 é o 102° elemento em decimal.O código exemplifica a diferença de representação:"
      ],
      "metadata": {
        "id": "xng6so_DJJ5D"
      }
    },
    {
      "cell_type": "code",
      "execution_count": 16,
      "metadata": {
        "colab": {
          "base_uri": "https://localhost:8080/"
        },
        "id": "VmGSPr3iJDcR",
        "outputId": "32435c08-0802-4d2a-bea1-5a95416bc7e4"
      },
      "outputs": [
        {
          "output_type": "stream",
          "name": "stdout",
          "text": [
            "Digite um número composto por zeros e uns: 10010\n",
            "O número em binário representa o 19° elemento.\n",
            "Enquanto, em decimal esse número é 10011° elemento.\n",
            "Portanto,observamos que o correspondente de 10010 na base 2 em decimal é 18 e não 10010.\n"
          ]
        }
      ],
      "source": [
        "n = input(\"Digite um número composto por zeros e uns: \")\n",
        "valor = 0\n",
        "tamanho_num = len(n)\n",
        "\n",
        "#Descobrindo qual o elemento em binário:\n",
        "for i in range(tamanho_num):\n",
        "  if n[i]=='1':#Se tiver um '1':\n",
        "    valor = valor + 2**(tamanho_num-1-int(i))#Eleva 2 a posição que o 1 está\n",
        "\n",
        "#Posição do elemento em binário:\n",
        "print(f'O número em binário representa o {valor+1}° elemento.')#Soma 1,pois zero também é um elemento\n",
        "\n",
        "#Descobrindo a posição do elemento em decimal:\n",
        "valor_decimal = int(n)+1\n",
        "print(f\"Enquanto, em decimal esse número é {valor_decimal}° elemento.\")\n",
        "\n",
        "#Comparando valores:\n",
        "print(f\"Portanto,observamos que o correspondente de {n} na base 2 em decimal é {valor} e não {n}.\")"
      ]
    },
    {
      "cell_type": "markdown",
      "source": [
        "## Numéro de digitos para se representar um determinado número\n",
        "Em algumas questões observa-se o seguinte tipo de pergunta:\"Quantos digitos em binário(bits)são necessários para representar determinado número em decimal?\"Para responder essa pergunta primeiramente é necessário observar qual a posição do elemento em decimal(somar +1, pois zero também é elemento).Depois disso,como para cada novo digito(bit) multiplica-se por 2 as possibilidades e o  número de elementos, para resolver a questão basta descobrir um número n tal que 2 elevado a n seja maior ou igual a posição do elemento em decimal.Abaixo está um código que resolve essa questão:"
      ],
      "metadata": {
        "id": "oT43YAK-y-rW"
      }
    },
    {
      "cell_type": "code",
      "source": [
        "num = float(input(\"Digite um número em Decimal: \"))\n",
        "num += 1 #Para obter a posição do elemento em decimal é só somar 1, pois 0 também é elemento\n",
        "n = 0\n",
        "x = 0\n",
        "\n",
        "#Obtendo um n tal que 2 elevado a n é maior que o número digitado:\n",
        "while num>x:\n",
        "    n += 1\n",
        "    x = 2**n\n",
        "print(f\"São necessários {n} digitos\")"
      ],
      "metadata": {
        "colab": {
          "base_uri": "https://localhost:8080/"
        },
        "id": "Hanq56W5zAuP",
        "outputId": "b5a19073-ad53-466f-ce18-7c8221b20c5a"
      },
      "execution_count": 15,
      "outputs": [
        {
          "output_type": "stream",
          "name": "stdout",
          "text": [
            "Digite um número em Decimal: 257\n",
            "São necessários 9 digitos\n"
          ]
        }
      ]
    }
  ]
}