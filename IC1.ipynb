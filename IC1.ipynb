{
  "nbformat": 4,
  "nbformat_minor": 0,
  "metadata": {
    "colab": {
      "provenance": []
    },
    "kernelspec": {
      "name": "python3",
      "display_name": "Python 3"
    },
    "language_info": {
      "name": "python"
    }
  },
  "cells": [
    {
      "cell_type": "markdown",
      "source": [
        "# Introdução ao computador\n",
        "## Sistemas de numeração\n",
        "Nesse primeiro momento, desenvolvemos um código para perceber a diferença que a base faz para o entendimento do valor.Ex: 101 em binário é diferente de 101 em decimal.Em binário 101 é o 6° elemento, enquanto 101 é o 102° elemento em decimal.O código exemplifica a diferença de representação:"
      ],
      "metadata": {
        "id": "xng6so_DJJ5D"
      }
    },
    {
      "cell_type": "code",
      "execution_count": 6,
      "metadata": {
        "colab": {
          "base_uri": "https://localhost:8080/"
        },
        "id": "VmGSPr3iJDcR",
        "outputId": "f6491249-73aa-4e63-bfed-dbd2edb4836c"
      },
      "outputs": [
        {
          "output_type": "stream",
          "name": "stdout",
          "text": [
            "Digite um número composto por zeros e uns:10101\n",
            "O número em binário representa o 22° elemento\n",
            "Enquanto, em decimal esse número é o 102° elemento\n",
            "Portanto,observamos que o correspondente de 10101 em decimal é 21 e não 10101\n"
          ]
        }
      ],
      "source": [
        "n = input(\"Digite um número composto por zeros e uns: \")\n",
        "#Descobrindo qual o elemento em binário\n",
        "valor = 0\n",
        "tamanho_num = len(n)\n",
        "for i in range(tamanho_num):\n",
        "  if n[i]=='1':#Se tiver um '1':\n",
        "    valor = valor + 2**(tamanho_num-1-int(i))#Eleva 2 a posição  que o 1 está\n",
        "print(f'O número em binário representa o {valor+1}° elemento.')#Soma 1,pois zero também é um elemento\n",
        "#Descobrindo o elemento em decimal:\n",
        "valor_decimal = int(n)+1\n",
        "print(f\"Enquanto, em decimal esse número é o 102° elemento.\")\n",
        "#Comparando valores:\n",
        "print(f\"Portanto,observamos que o correspondente de {n} em decimal é {valor} e não {n}.\")"
      ]
    }
  ]
}